{
 "cells": [
  {
   "cell_type": "markdown",
   "id": "24508a00-2bc6-4770-b13e-23cd9eb25693",
   "metadata": {},
   "source": [
    "# Exemplo de carga em massa para ElasticSearch"
   ]
  },
  {
   "cell_type": "markdown",
   "id": "932c17dd-5966-4833-9434-48b8b1cd2c79",
   "metadata": {},
   "source": [
    "### Instalando lib python"
   ]
  },
  {
   "cell_type": "code",
   "execution_count": 1,
   "id": "31c476ef-32e9-4dd9-ab92-3eb7ddb6c7a5",
   "metadata": {},
   "outputs": [
    {
     "name": "stdout",
     "output_type": "stream",
     "text": [
      "Collecting elasticsearch\n",
      "  Downloading elasticsearch-7.16.2-py2.py3-none-any.whl (385 kB)\n",
      "\u001b[K     |████████████████████████████████| 385 kB 1.3 MB/s eta 0:00:01\n",
      "\u001b[?25hRequirement already satisfied: certifi in /opt/conda/lib/python3.9/site-packages (from elasticsearch) (2021.5.30)\n",
      "Requirement already satisfied: urllib3<2,>=1.21.1 in /opt/conda/lib/python3.9/site-packages (from elasticsearch) (1.26.5)\n",
      "Installing collected packages: elasticsearch\n",
      "Successfully installed elasticsearch-7.16.2\n"
     ]
    }
   ],
   "source": [
    "!pip install elasticsearch"
   ]
  },
  {
   "cell_type": "markdown",
   "id": "2cfcb433-aad7-4898-8b16-f3e88b28874e",
   "metadata": {},
   "source": [
    "### Importando dependencias"
   ]
  },
  {
   "cell_type": "code",
   "execution_count": 3,
   "id": "f4fd1a59-7313-43da-8077-f894b05823e1",
   "metadata": {},
   "outputs": [],
   "source": [
    "from elasticsearch import Elasticsearch\n",
    "from elasticsearch.helpers import bulk\n",
    "import numpy as np\n",
    "import pandas as pd"
   ]
  },
  {
   "cell_type": "markdown",
   "id": "d6703dd9-08fd-4374-90a8-1550fd9acbb9",
   "metadata": {},
   "source": [
    "### Configurações de conexão host com ElasticSearch"
   ]
  },
  {
   "cell_type": "code",
   "execution_count": 5,
   "id": "3b18306c-a4f7-4e9f-aa02-4142f579fba7",
   "metadata": {
    "tags": []
   },
   "outputs": [],
   "source": [
    "host='127.0.0.1'\n",
    "port='9200'\n",
    "user='elastic'\n",
    "password='CMbci8P5tR3OlhCDqPlE'\n",
    "es = Elasticsearch(hosts=f\"http://{user}:{password}@{host}:{port}/\")"
   ]
  },
  {
   "cell_type": "markdown",
   "id": "ff66251c-5572-4fff-81f6-d0f910509483",
   "metadata": {},
   "source": [
    "### Ler csv \n",
    "Fonte: https://www.kaggle.com/johnharshith/hollywood-theatrical-market-synopsis-1995-to-2021?select=HighestGrossers.csv"
   ]
  },
  {
   "cell_type": "code",
   "execution_count": 20,
   "id": "ab8aa7e7-b3dc-4a8d-bbe8-bb5091bea389",
   "metadata": {},
   "outputs": [
    {
     "data": {
      "text/html": [
       "<div>\n",
       "<style scoped>\n",
       "    .dataframe tbody tr th:only-of-type {\n",
       "        vertical-align: middle;\n",
       "    }\n",
       "\n",
       "    .dataframe tbody tr th {\n",
       "        vertical-align: top;\n",
       "    }\n",
       "\n",
       "    .dataframe thead th {\n",
       "        text-align: right;\n",
       "    }\n",
       "</style>\n",
       "<table border=\"1\" class=\"dataframe\">\n",
       "  <thead>\n",
       "    <tr style=\"text-align: right;\">\n",
       "      <th></th>\n",
       "      <th>YEAR</th>\n",
       "      <th>MOVIE</th>\n",
       "      <th>GENRE</th>\n",
       "      <th>MPAA RATING</th>\n",
       "      <th>DISTRIBUTOR</th>\n",
       "      <th>TOTAL FOR YEAR</th>\n",
       "      <th>TOTAL IN 2019 DOLLARS</th>\n",
       "      <th>TICKETS SOLD</th>\n",
       "    </tr>\n",
       "  </thead>\n",
       "  <tbody>\n",
       "    <tr>\n",
       "      <th>0</th>\n",
       "      <td>1995</td>\n",
       "      <td>Batman Forever</td>\n",
       "      <td>Drama</td>\n",
       "      <td>PG-13</td>\n",
       "      <td>Warner Bros.</td>\n",
       "      <td>$184,031,112</td>\n",
       "      <td>$387,522,978</td>\n",
       "      <td>4,23,06,002</td>\n",
       "    </tr>\n",
       "    <tr>\n",
       "      <th>1</th>\n",
       "      <td>1996</td>\n",
       "      <td>Independence Day</td>\n",
       "      <td>Adventure</td>\n",
       "      <td>PG-13</td>\n",
       "      <td>20th Century Fox</td>\n",
       "      <td>$306,169,255</td>\n",
       "      <td>$634,504,608</td>\n",
       "      <td>6,92,69,062</td>\n",
       "    </tr>\n",
       "    <tr>\n",
       "      <th>2</th>\n",
       "      <td>1997</td>\n",
       "      <td>Men in Black</td>\n",
       "      <td>Adventure</td>\n",
       "      <td>PG-13</td>\n",
       "      <td>Sony Pictures</td>\n",
       "      <td>$250,650,052</td>\n",
       "      <td>$500,207,943</td>\n",
       "      <td>5,46,07,854</td>\n",
       "    </tr>\n",
       "    <tr>\n",
       "      <th>3</th>\n",
       "      <td>1998</td>\n",
       "      <td>Titanic</td>\n",
       "      <td>Adventure</td>\n",
       "      <td>PG-13</td>\n",
       "      <td>Paramount Pictures</td>\n",
       "      <td>$443,319,081</td>\n",
       "      <td>$865,842,808</td>\n",
       "      <td>9,45,24,324</td>\n",
       "    </tr>\n",
       "    <tr>\n",
       "      <th>4</th>\n",
       "      <td>1999</td>\n",
       "      <td>Star Wars Ep. I: The Phantom Menace</td>\n",
       "      <td>Adventure</td>\n",
       "      <td>PG</td>\n",
       "      <td>20th Century Fox</td>\n",
       "      <td>$430,443,350</td>\n",
       "      <td>$776,153,749</td>\n",
       "      <td>8,47,32,942</td>\n",
       "    </tr>\n",
       "  </tbody>\n",
       "</table>\n",
       "</div>"
      ],
      "text/plain": [
       "   YEAR                                MOVIE      GENRE MPAA RATING  \\\n",
       "0  1995                       Batman Forever      Drama       PG-13   \n",
       "1  1996                     Independence Day  Adventure       PG-13   \n",
       "2  1997                         Men in Black  Adventure       PG-13   \n",
       "3  1998                              Titanic  Adventure       PG-13   \n",
       "4  1999  Star Wars Ep. I: The Phantom Menace  Adventure          PG   \n",
       "\n",
       "          DISTRIBUTOR TOTAL FOR YEAR TOTAL IN 2019 DOLLARS TICKETS SOLD  \n",
       "0        Warner Bros.   $184,031,112          $387,522,978  4,23,06,002  \n",
       "1    20th Century Fox   $306,169,255          $634,504,608  6,92,69,062  \n",
       "2       Sony Pictures   $250,650,052          $500,207,943  5,46,07,854  \n",
       "3  Paramount Pictures   $443,319,081          $865,842,808  9,45,24,324  \n",
       "4    20th Century Fox   $430,443,350          $776,153,749  8,47,32,942  "
      ]
     },
     "execution_count": 20,
     "metadata": {},
     "output_type": "execute_result"
    }
   ],
   "source": [
    "df = pd.read_csv ('HighestGrossers.csv',sep=',')\n",
    "df.head()"
   ]
  },
  {
   "cell_type": "markdown",
   "id": "cd08c128-2361-48e3-a53a-e5c0d8950b10",
   "metadata": {},
   "source": [
    "### Tratando dados"
   ]
  },
  {
   "cell_type": "code",
   "execution_count": 21,
   "id": "efe786c4-f56d-403c-bf34-14be9b1ff0e4",
   "metadata": {},
   "outputs": [
    {
     "data": {
      "text/html": [
       "<div>\n",
       "<style scoped>\n",
       "    .dataframe tbody tr th:only-of-type {\n",
       "        vertical-align: middle;\n",
       "    }\n",
       "\n",
       "    .dataframe tbody tr th {\n",
       "        vertical-align: top;\n",
       "    }\n",
       "\n",
       "    .dataframe thead th {\n",
       "        text-align: right;\n",
       "    }\n",
       "</style>\n",
       "<table border=\"1\" class=\"dataframe\">\n",
       "  <thead>\n",
       "    <tr style=\"text-align: right;\">\n",
       "      <th></th>\n",
       "      <th>YEAR</th>\n",
       "      <th>MOVIE</th>\n",
       "      <th>GENRE</th>\n",
       "      <th>MPAA RATING</th>\n",
       "      <th>DISTRIBUTOR</th>\n",
       "      <th>TOTAL FOR YEAR</th>\n",
       "      <th>TOTAL IN 2019 DOLLARS</th>\n",
       "      <th>TICKETS SOLD</th>\n",
       "    </tr>\n",
       "  </thead>\n",
       "  <tbody>\n",
       "    <tr>\n",
       "      <th>0</th>\n",
       "      <td>1995</td>\n",
       "      <td>Batman Forever</td>\n",
       "      <td>Drama</td>\n",
       "      <td>PG-13</td>\n",
       "      <td>Warner Bros.</td>\n",
       "      <td>184031112.0</td>\n",
       "      <td>387522978.0</td>\n",
       "      <td>42306002.0</td>\n",
       "    </tr>\n",
       "    <tr>\n",
       "      <th>1</th>\n",
       "      <td>1996</td>\n",
       "      <td>Independence Day</td>\n",
       "      <td>Adventure</td>\n",
       "      <td>PG-13</td>\n",
       "      <td>20th Century Fox</td>\n",
       "      <td>306169255.0</td>\n",
       "      <td>634504608.0</td>\n",
       "      <td>69269062.0</td>\n",
       "    </tr>\n",
       "    <tr>\n",
       "      <th>2</th>\n",
       "      <td>1997</td>\n",
       "      <td>Men in Black</td>\n",
       "      <td>Adventure</td>\n",
       "      <td>PG-13</td>\n",
       "      <td>Sony Pictures</td>\n",
       "      <td>250650052.0</td>\n",
       "      <td>500207943.0</td>\n",
       "      <td>54607854.0</td>\n",
       "    </tr>\n",
       "    <tr>\n",
       "      <th>3</th>\n",
       "      <td>1998</td>\n",
       "      <td>Titanic</td>\n",
       "      <td>Adventure</td>\n",
       "      <td>PG-13</td>\n",
       "      <td>Paramount Pictures</td>\n",
       "      <td>443319081.0</td>\n",
       "      <td>865842808.0</td>\n",
       "      <td>94524324.0</td>\n",
       "    </tr>\n",
       "    <tr>\n",
       "      <th>4</th>\n",
       "      <td>1999</td>\n",
       "      <td>Star Wars Ep. I: The Phantom Menace</td>\n",
       "      <td>Adventure</td>\n",
       "      <td>PG</td>\n",
       "      <td>20th Century Fox</td>\n",
       "      <td>430443350.0</td>\n",
       "      <td>776153749.0</td>\n",
       "      <td>84732942.0</td>\n",
       "    </tr>\n",
       "  </tbody>\n",
       "</table>\n",
       "</div>"
      ],
      "text/plain": [
       "   YEAR                                MOVIE      GENRE MPAA RATING  \\\n",
       "0  1995                       Batman Forever      Drama       PG-13   \n",
       "1  1996                     Independence Day  Adventure       PG-13   \n",
       "2  1997                         Men in Black  Adventure       PG-13   \n",
       "3  1998                              Titanic  Adventure       PG-13   \n",
       "4  1999  Star Wars Ep. I: The Phantom Menace  Adventure          PG   \n",
       "\n",
       "          DISTRIBUTOR  TOTAL FOR YEAR  TOTAL IN 2019 DOLLARS  TICKETS SOLD  \n",
       "0        Warner Bros.     184031112.0            387522978.0    42306002.0  \n",
       "1    20th Century Fox     306169255.0            634504608.0    69269062.0  \n",
       "2       Sony Pictures     250650052.0            500207943.0    54607854.0  \n",
       "3  Paramount Pictures     443319081.0            865842808.0    94524324.0  \n",
       "4    20th Century Fox     430443350.0            776153749.0    84732942.0  "
      ]
     },
     "execution_count": 21,
     "metadata": {},
     "output_type": "execute_result"
    }
   ],
   "source": [
    "def clean_currency(x):\n",
    "    \"\"\" \n",
    "    se o valor é uma string, então remove o simbolo e separador de decimais\n",
    "    \"\"\"\n",
    "    if isinstance(x, str):\n",
    "        return(x.replace('$', '').replace(',', ''))\n",
    "    return(x)\n",
    "\n",
    "to_convert= ['TOTAL FOR YEAR','TOTAL IN 2019 DOLLARS','TICKETS SOLD']\n",
    "for r in to_convert:\n",
    "    df[r] = df[r].apply(clean_currency).astype('float')\n",
    "df.head()"
   ]
  },
  {
   "cell_type": "markdown",
   "id": "b07cbd8c-a825-485c-80db-da9a430d528d",
   "metadata": {},
   "source": [
    "### Criando indice com mapping"
   ]
  },
  {
   "cell_type": "code",
   "execution_count": 24,
   "id": "71ecb795-0ee2-4422-9a59-47a0f1fd06f5",
   "metadata": {},
   "outputs": [
    {
     "data": {
      "text/plain": [
       "{'acknowledged': True, 'shards_acknowledged': True, 'index': 'index-hollywood'}"
      ]
     },
     "execution_count": 24,
     "metadata": {},
     "output_type": "execute_result"
    }
   ],
   "source": [
    "INDEX=\"index-hollywood\"\n",
    "TYPE= \"highestgrossers\"\n",
    "#apagando caso exista\n",
    "es.indices.delete(index=INDEX, ignore=[400, 404])\n",
    "mappings= {\n",
    "  \"dynamic\": \"strict\",\n",
    "  \"properties\": {\n",
    "    \"YEAR\": {\n",
    "      \"type\": \"integer\"\n",
    "    },\n",
    "    \"MOVIE\": {\n",
    "      \"type\": \"text\",\n",
    "      \"fields\": {\n",
    "        \"keyword\": {\n",
    "          \"type\": \"keyword\",\n",
    "          \"ignore_above\": 256\n",
    "        }\n",
    "      }\n",
    "    },\n",
    "    \"GENRE\": {\n",
    "      \"type\": \"keyword\"\n",
    "    },\n",
    "    \"MPAA RATING\": {\n",
    "      \"type\": \"keyword\"\n",
    "    },    \n",
    "    \"DISTRIBUTOR\": {\n",
    "      \"type\": \"keyword\"\n",
    "    },  \n",
    "    \"TOTAL FOR YEAR\": {\n",
    "        \"type\": \"float\"\n",
    "    },  \n",
    "    \"TOTAL IN 2019 DOLLARS\": {\n",
    "        \"type\": \"float\"\n",
    "    },  \n",
    "    \"TICKETS SOLD\": {\n",
    "        \"type\": \"float\"\n",
    "    },\n",
    "  }\n",
    "}\n",
    "#criando novo indice\n",
    "es.indices.create(index=INDEX, ignore=400, mappings=mappings)"
   ]
  },
  {
   "cell_type": "markdown",
   "id": "75b2cdd6-1bd2-4eab-8850-304d88195e94",
   "metadata": {},
   "source": [
    "### Importando para elastic"
   ]
  },
  {
   "cell_type": "code",
   "execution_count": 25,
   "id": "711a6b7c-8f8f-4fed-9cc0-5da62fdcca5c",
   "metadata": {},
   "outputs": [
    {
     "name": "stdout",
     "output_type": "stream",
     "text": [
      "CPU times: user 2.16 ms, sys: 668 µs, total: 2.83 ms\n",
      "Wall time: 6.94 ms\n"
     ]
    },
    {
     "data": {
      "text/plain": [
       "(27, [])"
      ]
     },
     "execution_count": 25,
     "metadata": {},
     "output_type": "execute_result"
    }
   ],
   "source": [
    "%%time\n",
    "def rec_to_actions(df):\n",
    "    for record in df.replace({np.nan:None}).to_dict(orient=\"records\"):\n",
    "        doc={\n",
    "            '_source': record\n",
    "        }\n",
    "        yield doc\n",
    "\n",
    "bulk(es, rec_to_actions(df),index=INDEX)"
   ]
  },
  {
   "cell_type": "code",
   "execution_count": null,
   "id": "2123a72b-f007-456b-8ab3-5e7b317f4566",
   "metadata": {},
   "outputs": [],
   "source": []
  }
 ],
 "metadata": {
  "kernelspec": {
   "display_name": "Python 3",
   "language": "python",
   "name": "python3"
  },
  "language_info": {
   "codemirror_mode": {
    "name": "ipython",
    "version": 3
   },
   "file_extension": ".py",
   "mimetype": "text/x-python",
   "name": "python",
   "nbconvert_exporter": "python",
   "pygments_lexer": "ipython3",
   "version": "3.9.4"
  }
 },
 "nbformat": 4,
 "nbformat_minor": 5
}
